{
 "cells": [
  {
   "cell_type": "code",
   "execution_count": 1,
   "id": "e6ac7969",
   "metadata": {},
   "outputs": [],
   "source": [
    "import pandas as pd\n",
    "import numpy as np\n",
    "from sklearn.model_selection import train_test_split\n",
    "from sklearn.feature_extraction.text import CountVectorizer\n",
    "from sklearn.naive_bayes import MultinomialNB"
   ]
  },
  {
   "cell_type": "code",
   "execution_count": 2,
   "id": "b4d953a8",
   "metadata": {},
   "outputs": [],
   "source": [
    "# Считывание фичей, удаление np.nan из них\n",
    "df = pd.read_csv('train.csv')\n",
    "keywords, locations, texts, targets = df.iloc[:, 1], df.iloc[:, 2], df.iloc[:, 3], df.iloc[:, 4]\n",
    "keywords, locations, texts, targets = list(keywords), list(locations), list(texts), list(targets)\n",
    "for i, kw in enumerate(keywords):\n",
    "    if kw is np.nan:\n",
    "        keywords[i] = ''\n",
    "for i, loc in enumerate(locations):\n",
    "    if loc is np.nan:\n",
    "        locations[i] = ''"
   ]
  },
  {
   "cell_type": "code",
   "execution_count": 3,
   "id": "c01cf0ea",
   "metadata": {},
   "outputs": [],
   "source": [
    "# Разбиение фичей на train и test\n",
    "k_train, k_test, l_train, l_test, t_train, t_test, y_train, y_test = train_test_split(keywords,\n",
    "                                                                                     locations,\n",
    "                                                                                     texts,\n",
    "                                                                                     targets,\n",
    "                                                                                     test_size=0.2)"
   ]
  },
  {
   "cell_type": "code",
   "execution_count": 4,
   "id": "08e2d70a",
   "metadata": {},
   "outputs": [],
   "source": [
    "# Векторизация фичей\n",
    "k_vec, l_vec, t_vec = CountVectorizer(), CountVectorizer(), CountVectorizer()\n",
    "k_train = k_vec.fit_transform(k_train).toarray()\n",
    "l_train = l_vec.fit_transform(l_train).toarray()\n",
    "t_train = t_vec.fit_transform(t_train).toarray()\n",
    "k_test = k_vec.transform(k_test).toarray()\n",
    "l_test = l_vec.transform(l_test).toarray()\n",
    "t_test = t_vec.transform(t_test).toarray()"
   ]
  },
  {
   "cell_type": "code",
   "execution_count": 5,
   "id": "87425af5",
   "metadata": {},
   "outputs": [],
   "source": [
    "# Формирование X_train и X_test\n",
    "X_train = np.hstack((k_train, l_train, t_train))\n",
    "X_test = np.hstack((k_test, l_test, t_test))"
   ]
  },
  {
   "cell_type": "code",
   "execution_count": 6,
   "id": "cbb93073",
   "metadata": {},
   "outputs": [
    {
     "name": "stdout",
     "output_type": "stream",
     "text": [
      "Model accuracy on train data after training: 0.9116584564860427\n",
      "Model accuracy on train data after training: 0.8279711096520026\n"
     ]
    }
   ],
   "source": [
    "# Инициализация и обучение модели\n",
    "nb = MultinomialNB()\n",
    "nb.fit(X_train, y_train)\n",
    "print('Model accuracy on train data after training: {}'.format(nb.score(X_train, y_train)))\n",
    "print('Model accuracy on train data after training: {}'.format(nb.score(X_test, y_test)))"
   ]
  },
  {
   "cell_type": "code",
   "execution_count": null,
   "id": "b83f2bef",
   "metadata": {},
   "outputs": [],
   "source": []
  }
 ],
 "metadata": {
  "kernelspec": {
   "display_name": "Python 3 (ipykernel)",
   "language": "python",
   "name": "python3"
  },
  "language_info": {
   "codemirror_mode": {
    "name": "ipython",
    "version": 3
   },
   "file_extension": ".py",
   "mimetype": "text/x-python",
   "name": "python",
   "nbconvert_exporter": "python",
   "pygments_lexer": "ipython3",
   "version": "3.9.13"
  }
 },
 "nbformat": 4,
 "nbformat_minor": 5
}
